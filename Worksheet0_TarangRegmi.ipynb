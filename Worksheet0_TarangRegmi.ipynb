{
  "nbformat": 4,
  "nbformat_minor": 0,
  "metadata": {
    "colab": {
      "provenance": []
    },
    "kernelspec": {
      "name": "python3",
      "display_name": "Python 3"
    },
    "language_info": {
      "name": "python"
    }
  },
  "cells": [
    {
      "cell_type": "markdown",
      "source": [
        "Task - 1:\n",
        "Create a Python program that converts between different units of measurement.\n",
        "• The program should:\n",
        "1. Prompt the user to choose the type of conversion (e.g., length, weight, volume).\n",
        "2. Ask the user to input the value to be converted.\n",
        "3. Perform the conversion and display the result.\n",
        "4. Handle potential errors, such as invalid input or unsupported conversion types.\n",
        "\n",
        "• Requirements:\n",
        "1. Functions: Define at least one function to perform the conversion.\n",
        "2. Error Handling: Use try-except blocks to handle invalid input (e.g., non-numeric values).\n",
        "3. User Input: Prompt the user to select the conversion type and input the value.\n",
        "4. Docstrings: Include a docstring in your function to describe its purpose, parameters, and\n",
        "return value.\n",
        "\n",
        "• Conversion Options:\n",
        "1. Length:\n",
        "\n",
        "– Convert meters (m) to feet (ft).\n",
        "\n",
        "– Convert feet (ft) to meters (m).\n",
        "2. Weight:\n",
        "\n",
        "– Convert kilograms (kg) to pounds (lbs).\n",
        "\n",
        "– Convert pounds (lbs) to kilograms (kg).\n",
        "3. Volume:\n",
        "\n",
        "– Convert liters (L) to gallons (gal).\n",
        "\n",
        "– Convert gallons (gal) to liters (L)."
      ],
      "metadata": {
        "id": "_SGRKeLn4Y1X"
      }
    },
    {
      "cell_type": "code",
      "source": [
        "def convert_length(value, unit):\n",
        "    if unit == 'm':\n",
        "        return f\"{value * 3.28084:.2f} ft\"\n",
        "    elif unit == 'ft':\n",
        "        return f\"{value / 3.28084:.2f} m\"\n",
        "    else:\n",
        "        raise ValueError(\"Unsupported length unit.\")\n",
        "\n",
        "def convert_weight(value, unit):\n",
        "    if unit == 'kg':\n",
        "        return f\"{value * 2.20462:.2f} lbs\"\n",
        "    elif unit == 'lbs':\n",
        "        return f\"{value / 2.20462:.2f} kg\"\n",
        "    else:\n",
        "        raise ValueError(\"Unsupported weight unit.\")\n",
        "\n",
        "def convert_volume(value, unit):\n",
        "    if unit == 'L':\n",
        "        return f\"{value * 0.264172:.2f} gal\"\n",
        "    elif unit == 'gal':\n",
        "        return f\"{value / 0.264172:.2f} L\"\n",
        "    else:\n",
        "        raise ValueError(\"Unsupported volume unit.\")\n",
        "\n",
        "def main():\n",
        "    while True:\n",
        "        print(\"\\nUnit Conversion Program:\")\n",
        "        print(\"1. Length (m <-> ft)\")\n",
        "        print(\"2. Weight (kg <-> lbs)\")\n",
        "        print(\"3. Volume (L <-> gal)\")\n",
        "        print(\"4. Exit\")\n",
        "\n",
        "        choice = input(\"Choose a conversion type (1-4): \").strip()\n",
        "        if choice == '4':\n",
        "            print(\"Exiting program. Goodbye!\")\n",
        "            break\n",
        "\n",
        "        if choice not in ('1', '2', '3'):\n",
        "            print(\"Invalid choice. Please select a number between 1 and 4.\")\n",
        "            continue\n",
        "\n",
        "        value = input(\"Enter the value to convert: \").strip()\n",
        "        if not value.replace('.', '', 1).isdigit():\n",
        "            print(\"Error: Invalid input. Please enter a numeric value.\")\n",
        "            continue\n",
        "\n",
        "        value = float(value)\n",
        "\n",
        "        unit = input(\"Enter the unit: \").strip()  # No .lower() to keep 'L' uppercase\n",
        "\n",
        "\n",
        "        try:\n",
        "            if choice == '1':\n",
        "                print(\"Converted value:\", convert_length(value, unit))\n",
        "            elif choice == '2':\n",
        "                print(\"Converted value:\", convert_weight(value, unit))\n",
        "            elif choice == '3':\n",
        "                print(\"Converted value:\", convert_volume(value, unit))\n",
        "        except ValueError as e:\n",
        "            print(\"Error:\", e)\n",
        "\n",
        "if __name__ == \"__main__\":\n",
        "    main()\n"
      ],
      "metadata": {
        "colab": {
          "base_uri": "https://localhost:8080/"
        },
        "id": "tsN3iJ6k4qSC",
        "outputId": "e8bc6185-2c00-404a-835a-ae9049b7d2af"
      },
      "execution_count": null,
      "outputs": [
        {
          "output_type": "stream",
          "name": "stdout",
          "text": [
            "\n",
            "Unit Conversion Program:\n",
            "1. Length (m <-> ft)\n",
            "2. Weight (kg <-> lbs)\n",
            "3. Volume (L <-> gal)\n",
            "4. Exit\n",
            "Choose a conversion type (1-4): 1\n",
            "Enter the value to convert: 55\n",
            "Enter the unit: ft\n",
            "Converted value: 16.76 m\n",
            "\n",
            "Unit Conversion Program:\n",
            "1. Length (m <-> ft)\n",
            "2. Weight (kg <-> lbs)\n",
            "3. Volume (L <-> gal)\n",
            "4. Exit\n",
            "Choose a conversion type (1-4): 4\n",
            "Exiting program. Goodbye!\n"
          ]
        }
      ]
    },
    {
      "cell_type": "markdown",
      "source": [
        "Task - 2:\n",
        "Create a Python program that performs various mathematical operations on a list of numbers.\n",
        "• The Program should:\n",
        "1. Prompt the user to choose an operation (e.g., find the sum, average, maximum, or minimum\n",
        "of the numbers).\n",
        "2. Ask the user to input a list of numbers (separated by spaces).\n",
        "\n",
        "18\n",
        "\n",
        "6CS012 Worksheet - 0 Siman Giri\n",
        "\n",
        "3. Perform the selected operation and display the result.\n",
        "4. Handle potential errors, such as invalid input or empty lists.\n",
        "• Requirements:\n",
        "\n",
        "1. Functions: Define at least one function for each operation (sum, average, maximum, mini-\n",
        "mum).\n",
        "\n",
        "2. Error Handling: Use try-except blocks to handle invalid input (e.g., non-numeric values or\n",
        "empty lists).\n",
        "3. User Input: Prompt the user to select the operation and input the list of numbers.\n",
        "4. Docstrings: Include a docstring in each function to describe its purpose, parameters, and\n",
        "return value."
      ],
      "metadata": {
        "id": "HFh5JRhPTUfR"
      }
    },
    {
      "cell_type": "code",
      "source": [
        "\"\"\"Returns the sum if the given list of numbers.\n",
        ":param numbers: A list of numberical values.\n",
        ":return: Sim of the numbers.\n",
        "\"\"\"\n",
        "def calculate_sum(numbers):\n",
        "  return sum(numbers)\n",
        "\n",
        "\"\"\"Returns the average of the given list of numbers.\n",
        ":param numbers: A list of numberical values.\n",
        ":return: Average of the numbers.\n",
        "\"\"\"\n",
        "def calculate_average(numbers):\n",
        "  return sum(numbers)/len(numbers) if numbers else 0\n",
        "\n",
        "\"\"\"Returns the maximum of the given list of numbers.\n",
        ":param numbers: A list of numberical values.\n",
        ":return: Maximal of the numbers.\n",
        "\"\"\"\n",
        "def find_maximum(numbers):\n",
        "  return max(numbers)\n",
        "\n",
        "\"\"\"Returns the minimum of the given list of numbers.\n",
        ":param numbers: A list of numberical values.\n",
        ":return: minimum of the numbers.\n",
        "\"\"\"\n",
        "def find_minimum(numbers):\n",
        "  return min(numbers)\n",
        "\n",
        "def main():\n",
        "  while True:\n",
        "    print(\"\\n Mathemathical operations on a List of Numbers\")\n",
        "    print(\"1. sum\")\n",
        "    print(\"2. Average\")\n",
        "    print(\"3. Maximum\")\n",
        "    print(\"4. Minimum\")\n",
        "    print(\"5. Exit\")\n",
        "\n",
        "    choice = input(\"Choose an operation (1-5): \").strip()\n",
        "\n",
        "    if choice == '5':\n",
        "      print(\"Exiting program. Goodbye!\")\n",
        "      break\n",
        "\n",
        "    if choice not in ('1', '2', '3', '4'):\n",
        "      print(\"Invalid choicve. Please select a number between 1 and 5.\")\n",
        "      continue\n",
        "\n",
        "    numbers_input = input(\"Enter a list of numbers separated by spaces:\").strip()\n",
        "\n",
        "    try:\n",
        "      numbers = [float(num) for num in numbers_input.split()]\n",
        "      if not numbers:\n",
        "        raise ValueError(\"The list numbers cannot be empty.\")\n",
        "    except ValueError:\n",
        "      print(\"Error: Invalid input. Please enter a valid list of numbers.\")\n",
        "      continue\n",
        "\n",
        "    if choice == '1':\n",
        "      print(\"Sum:\", calculate_sum(numbers))\n",
        "    elif choice == '2':\n",
        "      print(\"Average:\", calculate_average(numbers))\n",
        "    elif choice == '3':\n",
        "      print(\"Maximum:\", find_maximum(numbers))\n",
        "    elif choice == '4':\n",
        "      print(\"Minimum:\", find_minimum(numbers))\n",
        "\n",
        "if __name__ == \"__main__\":\n",
        "  main()\n"
      ],
      "metadata": {
        "colab": {
          "base_uri": "https://localhost:8080/"
        },
        "id": "Vg99fQaPUr3e",
        "outputId": "a57a6a8b-32e7-4be7-dfbb-4f093cec3cc5"
      },
      "execution_count": null,
      "outputs": [
        {
          "output_type": "stream",
          "name": "stdout",
          "text": [
            "\n",
            " Mathemathical operations on a List of Numbers\n",
            "1. sum\n",
            "2. Average\n",
            "3. Maximum\n",
            "4. Minimum\n",
            "5. Exit\n",
            "Choose an operation (1-5): 4\n",
            "Enter a list of numbers separated by spaces:5 2 10 5 6\n",
            "Minimum: 2.0\n",
            "\n",
            " Mathemathical operations on a List of Numbers\n",
            "1. sum\n",
            "2. Average\n",
            "3. Maximum\n",
            "4. Minimum\n",
            "5. Exit\n",
            "Choose an operation (1-5): 5\n",
            "Exiting program. Goodbye!\n"
          ]
        }
      ]
    },
    {
      "cell_type": "markdown",
      "source": [
        "4.2 Exercise on List Manipulation:\n",
        "\n",
        "1. Extract Every Other Element:\n",
        "Write a Python function that extracts every other element from a list, starting from the first element.\n",
        "\n",
        "• Requirements:\n",
        "\n",
        "– Define a function extract every other(lst) that takes a list lst as input and returns a\n",
        "new list containing every other element from the original list.\n",
        "– Example: For the input [1, 2, 3, 4, 5, 6], the output should be [1, 3, 5]."
      ],
      "metadata": {
        "id": "EamC-vLkc3wX"
      }
    },
    {
      "cell_type": "code",
      "source": [
        "def extract_every_other(lst):\n",
        "  return lst[::2]\n",
        "\n",
        "example_list = [1, 2, 3, 4, 5, 6]\n",
        "print(extract_every_other(example_list))"
      ],
      "metadata": {
        "colab": {
          "base_uri": "https://localhost:8080/"
        },
        "id": "9mHu61SBddvJ",
        "outputId": "2a77472c-5fa1-42b3-dc9d-a8729fb9ed46"
      },
      "execution_count": null,
      "outputs": [
        {
          "output_type": "stream",
          "name": "stdout",
          "text": [
            "[1, 3, 5]\n"
          ]
        }
      ]
    },
    {
      "cell_type": "markdown",
      "source": [
        "2. Slice a Sublist:\n",
        "\n",
        "Write a Python function that returns a sublist from a given list, starting from a specified index and\n",
        "ending at another specified index.\n",
        "\n",
        "• Requirements:\n",
        "\n",
        "– Define a function get sublist(lst, start, end) that takes a list lst, a starting index\n",
        "start, and an ending index end as input and returns the sublist from start to end (inclusive).\n",
        "– Example: For the input [1, 2, 3, 4, 5, 6] with start=2 and end=4, the output should\n",
        "be [3, 4, 5]."
      ],
      "metadata": {
        "id": "jvxVxWG4fRIt"
      }
    },
    {
      "cell_type": "code",
      "source": [
        "def get_sublist(lst, start, end):\n",
        "  return lst[start:end+1]\n",
        "\n",
        "lst = [1,2,3,4,5,6]\n",
        "start = 2\n",
        "end = 4\n",
        "result = get_sublist(lst, start, end)\n",
        "print(result)"
      ],
      "metadata": {
        "colab": {
          "base_uri": "https://localhost:8080/"
        },
        "id": "9_OL3XbUfTjE",
        "outputId": "34b74eae-ffb4-4e25-924f-33862f7f7191"
      },
      "execution_count": null,
      "outputs": [
        {
          "output_type": "stream",
          "name": "stdout",
          "text": [
            "[3, 4, 5]\n"
          ]
        }
      ]
    },
    {
      "cell_type": "markdown",
      "source": [
        "Reverse a List Using Slicing:\n",
        "\n",
        "Write a Python function that reverses a list using slicing.\n",
        "\n",
        "• Requirements:\n",
        "\n",
        "– Define a function reverse list(lst) that takes a list lst and returns a reversed list using\n",
        "slicing.\n",
        "– Example: For the input [1, 2, 3, 4, 5], the output should be [5, 4, 3, 2, 1]."
      ],
      "metadata": {
        "id": "OdNgIs0wjdCV"
      }
    },
    {
      "cell_type": "code",
      "source": [
        "def reverse_list(lst):\n",
        "  return lst[::-1]\n",
        "\n",
        "lst = [1,2,3,4,5]\n",
        "result = reverse_list(lst)\n",
        "print(result)"
      ],
      "metadata": {
        "colab": {
          "base_uri": "https://localhost:8080/"
        },
        "id": "q2YO9A3Ujqco",
        "outputId": "4eb93a9b-cb05-4307-be9e-c75a09470073"
      },
      "execution_count": null,
      "outputs": [
        {
          "output_type": "stream",
          "name": "stdout",
          "text": [
            "[5, 4, 3, 2, 1]\n"
          ]
        }
      ]
    },
    {
      "cell_type": "markdown",
      "source": [
        "4. Remove the First and Last Elements:\n",
        "\n",
        "Write a Python function that removes the first and last elements of a list and returns the resulting sublist.\n",
        "\n",
        "• Requirements:\n",
        "\n",
        "– Define a function remove first last(lst) that takes a list lst and returns a sublist without\n",
        "the first and last elements using slicing.\n",
        "– Example: For the input [1, 2, 3, 4, 5], the output should be [2, 3, 4]."
      ],
      "metadata": {
        "id": "MzAx-_wBkW5-"
      }
    },
    {
      "cell_type": "code",
      "source": [
        "def remove_first_last(lst):\n",
        "  return lst[1:-1]\n",
        "lst = [1,2,3,4,5]\n",
        "result = remove_first_last(lst)\n",
        "print(result)"
      ],
      "metadata": {
        "colab": {
          "base_uri": "https://localhost:8080/"
        },
        "id": "6SCxzmMDkeYq",
        "outputId": "66624e08-c83f-4091-b23f-79070d08a8ca"
      },
      "execution_count": null,
      "outputs": [
        {
          "output_type": "stream",
          "name": "stdout",
          "text": [
            "[2, 3, 4]\n"
          ]
        }
      ]
    },
    {
      "cell_type": "markdown",
      "source": [
        "5. Get the First n Elements:\n",
        "\n",
        "Write a Python function that extracts the first n elements from a list.\n",
        "\n",
        "• Requirements:\n",
        "\n",
        "– Define a function get first n(lst, n) that takes a list lst and an integer n as input and\n",
        "returns the first n elements of the list using slicing.\n",
        "– Example: For the input [1, 2, 3, 4, 5] with n=3, the output should be [1, 2, 3]."
      ],
      "metadata": {
        "id": "GVhNxZtslNHS"
      }
    },
    {
      "cell_type": "code",
      "source": [
        "def get_first_n(lst,n):\n",
        "  return lst[:n]\n",
        "\n",
        "my_list = [1,2,3,4,5]\n",
        "n = 3\n",
        "first_n_elements = get_first_n(my_list, n)\n",
        "print(first_n_elements)"
      ],
      "metadata": {
        "colab": {
          "base_uri": "https://localhost:8080/"
        },
        "id": "sVzWL6ZXlSFM",
        "outputId": "ec55ff4f-7be8-4ac4-e1f4-7e5fc0eeccae"
      },
      "execution_count": null,
      "outputs": [
        {
          "output_type": "stream",
          "name": "stdout",
          "text": [
            "[1, 2, 3]\n"
          ]
        }
      ]
    },
    {
      "cell_type": "markdown",
      "source": [
        "6. Extract Elements from the End:\n",
        "\n",
        "Write a Python function that extracts the last n elements of a list using slicing.\n",
        "\n",
        "• Requirements:\n",
        "\n",
        "– Define a function get last n(lst, n) that takes a list lst and an integer n as input and\n",
        "returns the last n elements of the list.\n",
        "– Example: For the input [1, 2, 3, 4, 5] with n=2, the output should be [4, 5]."
      ],
      "metadata": {
        "id": "R0J8DEYemZMg"
      }
    },
    {
      "cell_type": "code",
      "source": [
        "def get_last_n(lst, n):\n",
        "  return lst[-n:]\n",
        "\n",
        "mi_list = [1,2,3,4,5]\n",
        "n = 2\n",
        "last_n_elements = get_last_n(mi_list, n)\n",
        "print(last_n_elements)\n"
      ],
      "metadata": {
        "colab": {
          "base_uri": "https://localhost:8080/"
        },
        "id": "NXiJutubmj0A",
        "outputId": "7e4529ae-542d-491f-cb92-756c4fb5b441"
      },
      "execution_count": null,
      "outputs": [
        {
          "output_type": "stream",
          "name": "stdout",
          "text": [
            "[4, 5]\n"
          ]
        }
      ]
    },
    {
      "cell_type": "markdown",
      "source": [
        "7. Extract Elements in Reverse Order:\n",
        "\n",
        "Write a Python function that extracts a list of elements in reverse order starting from the second-to-last\n",
        "element and skipping one element in between.\n",
        "\n",
        "• Requirements:\n",
        "\n",
        "– Define a function reverse skip(lst) that takes a list lst and returns a new list containing\n",
        "every second element starting from the second-to-last, moving backward.\n",
        "– Example: For the input [1, 2, 3, 4, 5, 6], the output should be [5, 3, 1]."
      ],
      "metadata": {
        "id": "Uy5x3l8BptlA"
      }
    },
    {
      "cell_type": "code",
      "source": [
        "def reverse_skip(lst):\n",
        "  return lst[-2 :: -2]\n",
        "\n",
        "my_list = [1,2,3,4,5,6]\n",
        "result = reverse_skip(my_list)\n",
        "print(result)"
      ],
      "metadata": {
        "colab": {
          "base_uri": "https://localhost:8080/"
        },
        "id": "1sS4Qmdfp6JH",
        "outputId": "00c4f29b-31c6-4690-c54c-bf85c01faf4d"
      },
      "execution_count": null,
      "outputs": [
        {
          "output_type": "stream",
          "name": "stdout",
          "text": [
            "[5, 3, 1]\n"
          ]
        }
      ]
    },
    {
      "cell_type": "markdown",
      "source": [
        "4.3 Exercise on Nested List:\n",
        "\n",
        "1. Flatten a Nested List:\n",
        "\n",
        "Write a Python function that takes a nested list and flattens it into a single list, where all the elements\n",
        "are in a single dimension.\n",
        "\n",
        "• Requirements:\n",
        "\n",
        "– Define a function flatten(lst) that takes a nested list lst and returns a flattened version\n",
        "of the list.\n",
        "– Example: For the input [[1, 2], [3, 4], [5]], the output should be [1, 2, 3, 4, 5]."
      ],
      "metadata": {
        "id": "4ARmMdYUrOvf"
      }
    },
    {
      "cell_type": "code",
      "source": [
        "def flatten(lst):\n",
        "  flattened_list = []\n",
        "  for item in lst:\n",
        "     if isinstance(item, list):\n",
        "      flattened_list.extend(flatten(item))\n",
        "     else:\n",
        "      flattened_list.append(item)\n",
        "  return flattened_list\n",
        "nested_list = [[1,2],[3,4],[5]]\n",
        "flattened_list = flatten(nested_list)\n",
        "print(flattened_list)"
      ],
      "metadata": {
        "colab": {
          "base_uri": "https://localhost:8080/"
        },
        "id": "raZqZpQxrVin",
        "outputId": "584c8df4-5a85-48dc-8483-421dd8c8aa2a"
      },
      "execution_count": null,
      "outputs": [
        {
          "output_type": "stream",
          "name": "stdout",
          "text": [
            "[1, 2, 3, 4, 5]\n"
          ]
        }
      ]
    },
    {
      "cell_type": "markdown",
      "source": [
        "2. Accessing Nested List Elements:\n",
        "\n",
        "Write a Python function that extracts a specific element from a nested list given its indices.\n",
        "\n",
        "• Requirements:\n",
        "\n",
        "– Define a function access nested element(lst, indices) that takes a nested list lst and\n",
        "a list of indices indices, and returns the element at that position.\n",
        "– Example: For the input lst = [[1, 2, 3], [4, 5, 6], [7, 8, 9]] with indices = [1,\n",
        "2], the output should be 6."
      ],
      "metadata": {
        "id": "QmwOATaDvx8b"
      }
    },
    {
      "cell_type": "code",
      "source": [
        "def access_nested_element(lst, indices):\n",
        "\n",
        "  element = lst\n",
        "  for index in indices:\n",
        "    element = element[index]\n",
        "  return element\n",
        "\n",
        "lst = [[1, 2, 3], [4, 5, 6], [7, 8, 9]]\n",
        "indices = [1,2]\n",
        "element = access_nested_element(lst,indices)\n",
        "print(element)"
      ],
      "metadata": {
        "colab": {
          "base_uri": "https://localhost:8080/"
        },
        "id": "_1V2T2usv1uv",
        "outputId": "cd11a679-8f35-40d9-d524-fa7c4f48672a"
      },
      "execution_count": null,
      "outputs": [
        {
          "output_type": "stream",
          "name": "stdout",
          "text": [
            "6\n"
          ]
        }
      ]
    },
    {
      "cell_type": "markdown",
      "source": [
        "3. Sum of All Elements in a Nested List:\n",
        "\n",
        "Write a Python function that calculates the sum of all the numbers in a nested list (regardless of depth).\n",
        "\n",
        "• Requirements:\n",
        "\n",
        "– Define a function sum nested(lst) that takes a nested list lst and returns the sum of all\n",
        "the elements.\n",
        "– Example: For the input [[1, 2], [3, [4, 5]], 6], the output should be 21."
      ],
      "metadata": {
        "id": "PkDbGtKlw5Z9"
      }
    },
    {
      "cell_type": "code",
      "source": [
        "def sum_nested(lst):\n",
        "  total_sum = 0\n",
        "  for item in lst:\n",
        "    if isinstance(item, list):\n",
        "      total_sum += sum_nested(item)\n",
        "    elif isinstance(item, (int, float)):\n",
        "      total_sum+=item\n",
        "  return total_sum\n",
        "\n",
        "nested_list = [[1, 2], [3, [4, 5]], 6]\n",
        "total_sum = sum_nested(nested_list)\n",
        "print(total_sum)\n",
        "\n"
      ],
      "metadata": {
        "colab": {
          "base_uri": "https://localhost:8080/"
        },
        "id": "kkE6of7CxR5k",
        "outputId": "f3993f53-5ff3-47c4-abd9-2fbbed158e29"
      },
      "execution_count": null,
      "outputs": [
        {
          "output_type": "stream",
          "name": "stdout",
          "text": [
            "21\n"
          ]
        }
      ]
    },
    {
      "cell_type": "markdown",
      "source": [
        "5. Find the Maximum Element in a Nested List:\n",
        "\n",
        "Write a Python function that finds the maximum element in a nested list (regardless of depth).\n",
        "\n",
        "• Requirements:\n",
        "\n",
        "– Define a function find max(lst) that takes a nested list lst and returns the maximum\n",
        "element.\n",
        "– Example: For the input [[1, 2], [3, [4, 5]], 6], the output should be 6."
      ],
      "metadata": {
        "id": "_GCSwbZy6qat"
      }
    },
    {
      "cell_type": "code",
      "source": [
        "def find_max(lst):\n",
        "   max_element = float('-inf')  # Initialize with negative infinity\n",
        "\n",
        "   for item in lst:\n",
        "    if isinstance(item, list):\n",
        "      max_element = max(max_element, find_max(item))  # Recursive call\n",
        "    elif isinstance(item, (int, float)):\n",
        "      max_element = max(max_element, item)\n",
        "\n",
        "   return max_element\n",
        "\n",
        "# Example usage\n",
        "nested_list = [[1, 2], [3, [4, 5]], 6]\n",
        "max_element = find_max(nested_list)\n",
        "print(max_element)  # Output: 6\n"
      ],
      "metadata": {
        "colab": {
          "base_uri": "https://localhost:8080/"
        },
        "id": "mmYsyB9m6p2h",
        "outputId": "e21926d2-6f53-4e1d-abec-64372a270512"
      },
      "execution_count": null,
      "outputs": [
        {
          "output_type": "stream",
          "name": "stdout",
          "text": [
            "6\n"
          ]
        }
      ]
    },
    {
      "cell_type": "markdown",
      "source": [
        "6. Count Occurrences of an Element in a Nested List:\n",
        "\n",
        "Write a Python function that counts how many times a specific element appears in a nested list.\n",
        "\n",
        "• Requirements:\n",
        "\n",
        "– Define a function count occurrences(lst, elem) that counts the occurrences of elem in\n",
        "the nested list lst.\n",
        "– Example: For the input lst = [[1, 2], [2, 3], [2, 4]] and elem = 2, the output should\n",
        "be 3."
      ],
      "metadata": {
        "id": "LqQAqXeL8G-z"
      }
    },
    {
      "cell_type": "code",
      "source": [
        "\n",
        "def count_occurrences(lst, elem):\n",
        "  count = 0\n",
        "  for item in lst:\n",
        "    if isinstance(item, list):\n",
        "      count += count_occurrences(item, elem)\n",
        "    elif item == elem:\n",
        "      count += 1\n",
        "  return count\n",
        "\n",
        "# Example usage\n",
        "lst = [[1, 2], [2, 3], [2, 4]]\n",
        "elem = 2\n",
        "occurrences = count_occurrences(lst, elem)\n",
        "print(occurrences)  # Output: 3"
      ],
      "metadata": {
        "colab": {
          "base_uri": "https://localhost:8080/"
        },
        "id": "r63rObu28Lis",
        "outputId": "0ab7dfdb-345c-4eb9-b61c-bf7ba5d62e42"
      },
      "execution_count": null,
      "outputs": [
        {
          "output_type": "stream",
          "name": "stdout",
          "text": [
            "3\n"
          ]
        }
      ]
    },
    {
      "cell_type": "markdown",
      "source": [
        "7. Flatten a List of Lists of Lists:\n",
        "\n",
        "Write a Python function that flattens a list of lists of lists into a single list, regardless of the depth.\n",
        "\n",
        "• Requirements:\n",
        "\n",
        "– Define a function deep flatten(lst) that takes a deeply nested list lst and returns a single\n",
        "flattened list.\n",
        "– Example: For the input [[[1, 2], [3, 4]], [[5, 6], [7, 8]]], the output should be\n",
        "[1, 2, 3, 4, 5, 6, 7, 8]."
      ],
      "metadata": {
        "id": "P_PWR0TG8gKk"
      }
    },
    {
      "cell_type": "code",
      "source": [
        "def deep_flatten(lst):\n",
        "  flattened_list = []\n",
        "  for item in lst:\n",
        "    if isinstance(item, list):\n",
        "      flattened_list.extend(deep_flatten(item))\n",
        "    else:\n",
        "      flattened_list.append(item)\n",
        "  return flattened_list\n",
        "\n",
        "lst = [[[1, 2], [3, 4]], [[5, 6], [7, 8]]]\n",
        "flattened_list = deep_flatten(lst)\n",
        "print(flattened_list)"
      ],
      "metadata": {
        "colab": {
          "base_uri": "https://localhost:8080/"
        },
        "id": "pXV_DYjJ8kYa",
        "outputId": "2d6bbac3-0686-4bdb-bca7-5c2cb9457a89"
      },
      "execution_count": null,
      "outputs": [
        {
          "output_type": "stream",
          "name": "stdout",
          "text": [
            "[1, 2, 3, 4, 5, 6, 7, 8]\n"
          ]
        }
      ]
    },
    {
      "cell_type": "markdown",
      "source": [
        "8. Nested List Average:\n",
        "Write a Python function that calculates the average of all elements in a nested list.\n",
        "• Requirements:\n",
        "– Define a function average nested(lst) that takes a nested list lst and returns the average\n",
        "of all the elements.\n",
        "– Example: For the input [[1, 2], [3, 4], [5, 6]], the output should be 3.5."
      ],
      "metadata": {
        "id": "AR4r1M538xvr"
      }
    },
    {
      "cell_type": "code",
      "source": [
        "def average_nested(lst):\n",
        "  total_sum = 0\n",
        "  count = 0\n",
        "  for item in lst:\n",
        "    if isinstance(item, list):\n",
        "      for element in item:\n",
        "        if isinstance(element, (int, float)):\n",
        "          total_sum += element\n",
        "          count += 1\n",
        "    elif isinstance(item, (int, float)):\n",
        "      total_sum += item\n",
        "      count += 1\n",
        "  return total_sum / count if count else 0\n",
        "\n",
        "lst = [[1, 2], [3, 4], [5, 6]]\n",
        "average = average_nested(lst)\n",
        "print(average)"
      ],
      "metadata": {
        "colab": {
          "base_uri": "https://localhost:8080/"
        },
        "id": "XBdUdEUe80RY",
        "outputId": "fd5f9412-4d63-42e4-fa44-d5c165911989"
      },
      "execution_count": null,
      "outputs": [
        {
          "output_type": "stream",
          "name": "stdout",
          "text": [
            "3.5\n"
          ]
        }
      ]
    },
    {
      "cell_type": "markdown",
      "source": [
        "Problem - 1: Array Creation:\n",
        "\n",
        "Complete the following Tasks:\n",
        "\n",
        "1. Initialize an empty array with size 2X2.\n",
        "2. Initialize an all one array with size 4X2.\n",
        "3. Return a new array of given shape and type, filled with fill value.{Hint: np.full}\n",
        "4. Return a new array of zeros with same shape and type as a given array.{Hint: np.zeros like}\n",
        "5. Return a new array of ones with same shape and type as a given array.{Hint: np.ones like}\n",
        "6. For an existing list new_list = [1,2,3,4] convert to an numpy array.{Hint: np.array()}"
      ],
      "metadata": {
        "id": "a--pIyhP9ORv"
      }
    },
    {
      "cell_type": "code",
      "source": [
        "import numpy as np\n",
        "\n",
        "# 1. Initialize an empty array with size 2X2.\n",
        "empty_array = np.empty((2, 2))\n",
        "\n",
        "# 2. Initialize an all one array with size 4X2.\n",
        "ones_array = np.ones((4, 2))\n",
        "\n",
        "# 3. Return a new array of given shape and type, filled with fill value.\n",
        "shape = (3, 3)\n",
        "fill_value = 7\n",
        "full_array = np.full(shape, fill_value)\n",
        "\n",
        "# 4. Return a new array of zeros with the same shape and type as a given array.\n",
        "example_array = np.array([[1, 2], [3, 4]], dtype=int)\n",
        "zeros_array = np.zeros_like(example_array)\n",
        "\n",
        "# 5. Return a new array of ones with the same shape and type as a given array.\n",
        "ones_like_array = np.ones_like(example_array)\n",
        "\n",
        "# 6. For an existing list new_list = [1, 2, 3, 4] convert to a numpy array.\n",
        "new_list = [1, 2, 3, 4]\n",
        "numpy_array = np.array(new_list)\n",
        "\n",
        "# Print the results (optional)\n",
        "print(\"1. Empty Array:\\n\", empty_array)\n",
        "print(\"\\n2. Ones Array:\\n\", ones_array)\n",
        "print(\"\\n3. Full Array:\\n\", full_array)\n",
        "print(\"\\n4. Zeros Like Array:\\n\", zeros_array)\n",
        "print(\"\\n5. Ones Like Array:\\n\", ones_like_array)\n",
        "print(\"\\n6. Numpy Array from List:\\n\", numpy_array)\n"
      ],
      "metadata": {
        "colab": {
          "base_uri": "https://localhost:8080/"
        },
        "id": "akshOPdM9QTO",
        "outputId": "c5074d9e-378a-4eb5-82d1-a06775ab3175"
      },
      "execution_count": null,
      "outputs": [
        {
          "output_type": "stream",
          "name": "stdout",
          "text": [
            "1. Empty Array:\n",
            " [[5.27986577e-316 0.00000000e+000]\n",
            " [5.73116149e-322 0.00000000e+000]]\n",
            "\n",
            "2. Ones Array:\n",
            " [[1. 1.]\n",
            " [1. 1.]\n",
            " [1. 1.]\n",
            " [1. 1.]]\n",
            "\n",
            "3. Full Array:\n",
            " [[7 7 7]\n",
            " [7 7 7]\n",
            " [7 7 7]]\n",
            "\n",
            "4. Zeros Like Array:\n",
            " [[0 0]\n",
            " [0 0]]\n",
            "\n",
            "5. Ones Like Array:\n",
            " [[1 1]\n",
            " [1 1]]\n",
            "\n",
            "6. Numpy Array from List:\n",
            " [1 2 3 4]\n"
          ]
        }
      ]
    },
    {
      "cell_type": "markdown",
      "source": [
        "Problem - 2: Array Manipulation: Numerical Ranges and Array indexing:\n",
        "\n",
        "Complete the following tasks:\n",
        "\n",
        "1. Create an array with values ranging from 10 to 49. {Hint:np.arrange()}.\n",
        "2. Create a 3X3 matrix with values ranging from 0 to 8.\n",
        "{Hint:look for np.reshape()}\n",
        "3. Create a 3X3 identity matrix.{Hint:np.eye()}\n",
        "4. Create a random array of size 30 and find the mean of the array.\n",
        "{Hint:check for np.random.random() and array.mean() function}\n",
        "5. Create a 10X10 array with random values and find the minimum and maximum values.\n",
        "6. Create a zero array of size 10 and replace 5th element with 1.\n",
        "7. Reverse an array arr = [1,2,0,0,4,0].\n",
        "8. Create a 2d array with 1 on border and 0 inside.\n",
        "9. Create a 8X8 matrix and fill it with a checkerboard pattern."
      ],
      "metadata": {
        "id": "HZ2cI4Qt9hYb"
      }
    },
    {
      "cell_type": "code",
      "source": [
        "import numpy as np\n",
        "\n",
        "# 1. Create an array with values ranging from 10 to 49.\n",
        "array1 = np.arange(10, 50)\n",
        "\n",
        "# 2. Create a 3x3 matrix with values ranging from 0 to 8.\n",
        "array2 = np.arange(9).reshape(3, 3)\n",
        "\n",
        "# 3. Create a 3x3 identity matrix.\n",
        "array3 = np.eye(3)\n",
        "\n",
        "# 4. Create a random array of size 30 and find the mean.\n",
        "array4 = np.random.random(30)\n",
        "mean_array4 = array4.mean()\n",
        "\n",
        "# 5. Create a 10x10 array with random values and find min/max.\n",
        "array5 = np.random.random((10, 10))\n",
        "min_array5 = array5.min()\n",
        "max_array5 = array5.max()\n",
        "\n",
        "# 6. Create a zero array of size 10 and replace 5th element with 1.\n",
        "array6 = np.zeros(10)\n",
        "array6[4] = 1  # Remember, Python indexing starts at 0\n",
        "\n",
        "# 7. Reverse an array arr = [1, 2, 0, 0, 4, 0].\n",
        "arr = [1, 2, 0, 0, 4, 0]\n",
        "reversed_arr = arr[::-1]\n",
        "\n",
        "# 8. Create a 2d array with 1 on border and 0 inside.\n",
        "array8 = np.ones((5, 5))  # Example size, adjust as needed\n",
        "array8[1:-1, 1:-1] = 0\n",
        "\n",
        "# 9. Create an 8x8 matrix with a checkerboard pattern.\n",
        "array9 = np.zeros((8, 8), dtype=int)\n",
        "array9[::2, 1::2] = 1\n",
        "array9[1::2, ::2] = 1\n",
        "\n",
        "\n",
        "print(\"\\n1.\", array1)\n",
        "\n",
        "print(\"\\n2.\", array2)\n",
        "\n",
        "print(\"\\n3.\", array3)\n",
        "\n",
        "print(\"\\n4. Mean:\", mean_array4)\n",
        "\n",
        "print(\"\\n5. Min:\", min_array5, \"Max:\", max_array5)\n",
        "\n",
        "print(\"\\n6.\", array6)\n",
        "\n",
        "print(\"\\n7.\", reversed_arr)\n",
        "\n",
        "print(\"\\n8.\", array8)\n",
        "print(\"\\n9.\", array9)"
      ],
      "metadata": {
        "colab": {
          "base_uri": "https://localhost:8080/"
        },
        "id": "gYiabLJ0-JRo",
        "outputId": "77dbde62-fc83-40d1-fdb8-672171ac37f1"
      },
      "execution_count": null,
      "outputs": [
        {
          "output_type": "stream",
          "name": "stdout",
          "text": [
            "\n",
            "1. [10 11 12 13 14 15 16 17 18 19 20 21 22 23 24 25 26 27 28 29 30 31 32 33\n",
            " 34 35 36 37 38 39 40 41 42 43 44 45 46 47 48 49]\n",
            "\n",
            "2. [[0 1 2]\n",
            " [3 4 5]\n",
            " [6 7 8]]\n",
            "\n",
            "3. [[1. 0. 0.]\n",
            " [0. 1. 0.]\n",
            " [0. 0. 1.]]\n",
            "\n",
            "4. Mean: 0.5213346835047382\n",
            "\n",
            "5. Min: 0.00939210677864899 Max: 0.9872088312443669\n",
            "\n",
            "6. [0. 0. 0. 0. 1. 0. 0. 0. 0. 0.]\n",
            "\n",
            "7. [0, 4, 0, 0, 2, 1]\n",
            "\n",
            "8. [[1. 1. 1. 1. 1.]\n",
            " [1. 0. 0. 0. 1.]\n",
            " [1. 0. 0. 0. 1.]\n",
            " [1. 0. 0. 0. 1.]\n",
            " [1. 1. 1. 1. 1.]]\n",
            "\n",
            "9. [[0 1 0 1 0 1 0 1]\n",
            " [1 0 1 0 1 0 1 0]\n",
            " [0 1 0 1 0 1 0 1]\n",
            " [1 0 1 0 1 0 1 0]\n",
            " [0 1 0 1 0 1 0 1]\n",
            " [1 0 1 0 1 0 1 0]\n",
            " [0 1 0 1 0 1 0 1]\n",
            " [1 0 1 0 1 0 1 0]]\n"
          ]
        }
      ]
    },
    {
      "cell_type": "markdown",
      "source": [
        "Problem - 3: Array Operations:\n",
        "\n",
        "For the following arrays:\n",
        "\n",
        "x = np.array([[1,2],[3,5]]) and y = np.array([[5,6],[7,8]]);\n",
        "v = np.array([9,10]) and w = np.array([11,12]);\n",
        "Complete all the task using numpy:\n",
        "1. Add the two array.\n",
        "2. Subtract the two array.\n",
        "3. Multiply the array with any integers of your choice.\n",
        "4. Find the square of each element of the array.\n",
        "5. Find the dot product between: v(and)w ; x(and)v ; x(and)y.\n",
        "6. Concatenate x(and)y along row and Concatenate v(and)w along column.\n",
        "{Hint:try np.concatenate() or np.vstack() functions.\n",
        "7. Concatenate x(and)v; if you get an error, observe and explain why did you get the error?"
      ],
      "metadata": {
        "id": "NCsRoHp7_Eie"
      }
    },
    {
      "cell_type": "code",
      "source": [
        "import numpy as np\n",
        "\n",
        "x = np.array([[1, 2], [3, 5]])\n",
        "y = np.array([[5, 6], [7, 8]])\n",
        "v = np.array([9, 10])\n",
        "w = np.array([11, 12])\n",
        "\n",
        "# 1. Add the two arrays (x and y)\n",
        "add_result = x + y\n",
        "\n",
        "# 2. Subtract the two arrays (x and y)\n",
        "subtract_result = x - y\n",
        "\n",
        "# 3. Multiply the array x by an integer (e.g., 3)\n",
        "multiply_result = x * 3\n",
        "\n",
        "# 4. Find the square of each element of the array x\n",
        "square_result = x ** 2\n",
        "\n",
        "# 5. Find the dot product\n",
        "dot_vw = np.dot(v, w)\n",
        "dot_xv = np.dot(x, v)\n",
        "dot_xy = np.dot(x, y)\n",
        "\n",
        "# 6. Concatenate\n",
        "concat_xy_row = np.concatenate((x, y), axis=0)  # Along row (axis=0)\n",
        "concat_vw_col = np.vstack((v, w))       # Along column (equivalent to axis=0 for 1D arrays)\n",
        "\n",
        "\n",
        "# 7. Concatenate x and v (will result in an error)\n",
        "# concat_xv = np.concatenate((x, v), axis=0)  # Uncomment to see the error\n",
        "\n",
        "# Explanation of the error in step 7:\n",
        "# The error occurs because x has shape (2, 2) and v has shape (2,).\n",
        "# np.concatenate requires arrays to have the same number of dimensions\n",
        "# along the concatenation axis (axis=0 in this case).\n",
        "\n",
        "# To fix the error:\n",
        "\n",
        "# Option 1: Reshape v to have 2 dimensions:\n",
        "v_reshaped = v.reshape(1, 2) # Reshape to (1,2)\n",
        "concat_xv = np.concatenate((x,v_reshaped), axis=0)\n",
        "\n",
        "# Print the results (optional - uncomment to see outputs)\n",
        "print(\"1. Addition:\\n\", add_result)\n",
        "print(\"\\n2. Subtraction:\\n\", subtract_result)\n",
        "print(\"\\n3. Multiplication:\\n\", multiply_result)\n",
        "print(\"\\n4. Square:\\n\", square_result)\n",
        "print(\"\\n5. Dot Products: vw =\", dot_vw, \", xv =\", dot_xv, \", xy =\\n\", dot_xy)\n",
        "print(\"\\n6. Concatenation: xy (row) =\\n\", concat_xy_row, \", vw (col) =\\n\", concat_vw_col)\n",
        "print(\"\\n7. Concatenation (after reshape): xv =\\n\", concat_xv)"
      ],
      "metadata": {
        "colab": {
          "base_uri": "https://localhost:8080/"
        },
        "id": "7t9Knmwo_Tf8",
        "outputId": "6690ef86-62c8-4633-83c8-d006370edd54"
      },
      "execution_count": null,
      "outputs": [
        {
          "output_type": "stream",
          "name": "stdout",
          "text": [
            "1. Addition:\n",
            " [[ 6  8]\n",
            " [10 13]]\n",
            "\n",
            "2. Subtraction:\n",
            " [[-4 -4]\n",
            " [-4 -3]]\n",
            "\n",
            "3. Multiplication:\n",
            " [[ 3  6]\n",
            " [ 9 15]]\n",
            "\n",
            "4. Square:\n",
            " [[ 1  4]\n",
            " [ 9 25]]\n",
            "\n",
            "5. Dot Products: vw = 219 , xv = [29 77] , xy =\n",
            " [[19 22]\n",
            " [50 58]]\n",
            "\n",
            "6. Concatenation: xy (row) =\n",
            " [[1 2]\n",
            " [3 5]\n",
            " [5 6]\n",
            " [7 8]] , vw (col) =\n",
            " [[ 9 10]\n",
            " [11 12]]\n",
            "\n",
            "7. Concatenation (after reshape): xv =\n",
            " [[ 1  2]\n",
            " [ 3  5]\n",
            " [ 9 10]]\n"
          ]
        }
      ]
    },
    {
      "cell_type": "markdown",
      "source": [
        "Problem - 4: Matrix Operations:\n",
        "\n",
        "• For the following arrays:\n",
        "\n",
        "A = np.array([[3,4],[7,8]]) and B = np.array([[5,3],[2,1]]);\n",
        "Prove following with Numpy:\n",
        "1. Prove A.A−1 = I.\n",
        "2. Prove AB ̸= BA.\n",
        "3. Prove (AB)\n",
        "\n",
        "T = BTAT\n",
        ".\n",
        "\n",
        "• Solve the following system of Linear equation using Inverse Methods.\n",
        "\n",
        "2x − 3y + z = −1\n",
        "x − y + 2z = −3\n",
        "3x + y − z = 9\n",
        "\n",
        "{Hint: First use Numpy array to represent the equation in Matrix form. Then Solve for: AX = B}\n",
        "\n",
        "• Now: solve the above equation using np.linalg.inv function.{Explore more about ”linalg” func-\n",
        "tion of Numpy}"
      ],
      "metadata": {
        "id": "FG_ZOe3G__lv"
      }
    },
    {
      "cell_type": "code",
      "source": [
        "import numpy as np\n",
        "\n",
        "# Define matrices A and B\n",
        "A = np.array([[3, 4], [7, 8]])\n",
        "B = np.array([[5, 3], [2, 1]])\n",
        "\n",
        "# 1. Prove A.A⁻¹ = I\n",
        "A_inv = np.linalg.inv(A)  # Calculate the inverse of A\n",
        "identity_matrix = np.dot(A, A_inv)  # Multiply A by its inverse\n",
        "print(np.allclose(identity_matrix, np.eye(2)))  # Check if it's close to the identity matrix (True)\n",
        "\n",
        "# 2. Prove AB ≠ BA\n",
        "AB = np.dot(A, B)\n",
        "BA = np.dot(B, A)\n",
        "print(np.array_equal(AB, BA))  # Check if AB is equal to BA (False)\n",
        "\n",
        "# 3. Prove (AB)^T = B^T A^T\n",
        "AB_transpose = np.transpose(AB)\n",
        "B_transpose_A_transpose = np.dot(np.transpose(B), np.transpose(A))\n",
        "print(np.array_equal(AB_transpose, B_transpose_A_transpose))  # Check if (AB)^T = B^T A^T (True)\n",
        "\n",
        "# Solving the system of linear equations\n",
        "# Represent the equations in matrix form: AX = B\n",
        "A = np.array([[2, -3, 1], [1, -1, 2], [3, 1, -1]])\n",
        "B = np.array([-1, -3, 9])\n",
        "\n",
        "# Solve for X using the inverse method\n",
        "X = np.linalg.solve(A, B)  # Using np.linalg.solve\n",
        "print(\"Solution using np.linalg.solve:\", X)\n",
        "\n",
        "# Solve for X using np.linalg.inv\n",
        "X_inv = np.dot(np.linalg.inv(A), B)  # Using np.linalg.inv\n",
        "print(\"Solution using np.linalg.inv:\", X_inv)\n",
        "\n",
        "\"\"\"Explore more about 'linalg' function of NumPy:\n",
        "The 'linalg' submodule in NumPy provides functions for linear algebra operations,\n",
        "including solving systems of equations, finding eigenvalues and eigenvectors,\n",
        "calculating matrix decompositions (like SVD, QR), and more.\"\"\"\n"
      ],
      "metadata": {
        "colab": {
          "base_uri": "https://localhost:8080/"
        },
        "id": "pNUdCHPAABnS",
        "outputId": "097abe24-c974-4a74-8e26-5989fafa38b2"
      },
      "execution_count": null,
      "outputs": [
        {
          "output_type": "stream",
          "name": "stdout",
          "text": [
            "True\n",
            "False\n",
            "True\n",
            "Solution using np.linalg.solve: [ 2.  1. -2.]\n",
            "Solution using np.linalg.inv: [ 2.  1. -2.]\n"
          ]
        }
      ]
    },
    {
      "cell_type": "markdown",
      "source": [
        "1. Element-wise Addition:\n",
        "\n",
        "• Using Python Lists, perform element-wise addition of two lists of size 1, 000, 000. Measure\n",
        "and Print the time taken for this operation.\n",
        "\n",
        "• Using Numpy Arrays, Repeat the calculation and measure and print the time taken for\n",
        "this operation."
      ],
      "metadata": {
        "id": "FBhfQkrxA2i3"
      }
    },
    {
      "cell_type": "code",
      "source": [
        "import time\n",
        "import numpy as np\n",
        "\n",
        "# Create two lists of size 1,000,000\n",
        "list1 = list(range(1000000))\n",
        "list2 = list(range(1000000))\n",
        "\n",
        "# Element-wise addition using Python lists\n",
        "start_time = time.time()\n",
        "result_list = [x + y for x, y in zip(list1, list2)]\n",
        "end_time = time.time()\n",
        "list_time = end_time - start_time\n",
        "print(f\"Time taken using Python lists: {list_time:.4f} seconds\")\n",
        "\n",
        "# Create two NumPy arrays of size 1,000,000\n",
        "array1 = np.arange(1000000)\n",
        "array2 = np.arange(1000000)\n",
        "\n",
        "# Element-wise addition using NumPy arrays\n",
        "start_time = time.time()\n",
        "result_array = array1 + array2\n",
        "end_time = time.time()\n",
        "array_time = end_time - start_time\n",
        "print(f\"Time taken using NumPy arrays: {array_time:.4f} seconds\")"
      ],
      "metadata": {
        "colab": {
          "base_uri": "https://localhost:8080/"
        },
        "id": "vIxCx8jpA69K",
        "outputId": "473d305a-b5b0-4101-f0e1-4ec389d87261"
      },
      "execution_count": null,
      "outputs": [
        {
          "output_type": "stream",
          "name": "stdout",
          "text": [
            "Time taken using Python lists: 0.0685 seconds\n",
            "Time taken using NumPy arrays: 0.0045 seconds\n"
          ]
        }
      ]
    },
    {
      "cell_type": "markdown",
      "source": [
        "2. Element-wise Multiplication\n",
        "\n",
        "• Using Python Lists, perform element-wise multiplication of two lists of size 1, 000, 000.\n",
        "Measure and Print the time taken for this operation.\n",
        "\n",
        "• Using Numpy Arrays, Repeat the calculation and measure and print the time taken for\n",
        "this operation."
      ],
      "metadata": {
        "id": "x5fBx1lyCDis"
      }
    },
    {
      "cell_type": "code",
      "source": [
        "import time\n",
        "import numpy as np\n",
        "\n",
        "# Create two lists of size 1,000,000\n",
        "list1 = list(range(1000000))\n",
        "list2 = list(range(1000000))\n",
        "\n",
        "# Element-wise multiplication using Python lists\n",
        "start_time = time.time()\n",
        "result_list = [x * y for x, y in zip(list1, list2)]\n",
        "end_time = time.time()\n",
        "list_time = end_time - start_time\n",
        "print(f\"Time taken using Python lists: {list_time:.4f} seconds\")\n",
        "\n",
        "# Create two NumPy arrays of size 1,000,000\n",
        "array1 = np.arange(1000000)\n",
        "array2 = np.arange(1000000)\n",
        "\n",
        "# Element-wise multiplication using NumPy arrays\n",
        "start_time = time.time()\n",
        "result_array = array1 * array2\n",
        "end_time = time.time()\n",
        "array_time = end_time - start_time\n",
        "print(f\"Time taken using NumPy arrays: {array_time:.4f} seconds\")"
      ],
      "metadata": {
        "colab": {
          "base_uri": "https://localhost:8080/"
        },
        "id": "9Zns_m4PCJA3",
        "outputId": "643e73ee-a9d3-4fa9-a1bf-7741103409de"
      },
      "execution_count": null,
      "outputs": [
        {
          "output_type": "stream",
          "name": "stdout",
          "text": [
            "Time taken using Python lists: 0.0667 seconds\n",
            "Time taken using NumPy arrays: 0.0047 seconds\n"
          ]
        }
      ]
    },
    {
      "cell_type": "markdown",
      "source": [
        "3. Dot Product\n",
        "\n",
        "• Using Python Lists, compute the dot product of two lists of size 1, 000, 000. Measure and\n",
        "Print the time taken for this operation.\n",
        "\n",
        "• Using Numpy Arrays, Repeat the calculation and measure and print the time taken for\n",
        "this operation."
      ],
      "metadata": {
        "id": "JGoVLiwRCZ65"
      }
    },
    {
      "cell_type": "code",
      "source": [
        "import time\n",
        "import numpy as np\n",
        "\n",
        "# Create two lists of size 1,000,000\n",
        "list1 = list(range(1000000))\n",
        "list2 = list(range(1000000))\n",
        "\n",
        "# Dot product using Python lists\n",
        "start_time = time.time()\n",
        "dot_product_list = sum(x * y for x, y in zip(list1, list2))\n",
        "end_time = time.time()\n",
        "list_time = end_time - start_time\n",
        "print(f\"Time taken using Python lists: {list_time:.4f} seconds\")\n",
        "\n",
        "# Create two NumPy arrays of size 1,000,000\n",
        "array1 = np.arange(1000000)\n",
        "array2 = np.arange(1000000)\n",
        "\n",
        "# Dot product using NumPy arrays\n",
        "start_time = time.time()\n",
        "dot_product_array = np.dot(array1, array2)\n",
        "end_time = time.time()\n",
        "array_time = end_time - start_time\n",
        "print(f\"Time taken using NumPy arrays: {array_time:.4f} seconds\")"
      ],
      "metadata": {
        "colab": {
          "base_uri": "https://localhost:8080/"
        },
        "id": "NdzpvsmRChkv",
        "outputId": "424a3f53-47a1-411f-b3ee-515b3e424995"
      },
      "execution_count": null,
      "outputs": [
        {
          "output_type": "stream",
          "name": "stdout",
          "text": [
            "Time taken using Python lists: 0.1125 seconds\n",
            "Time taken using NumPy arrays: 0.0017 seconds\n"
          ]
        }
      ]
    },
    {
      "cell_type": "markdown",
      "source": [
        "4. Matrix Multiplication\n",
        "\n",
        "• Using Python lists, perform matrix multiplication of two matrices of size 1000x1000. Mea-\n",
        "sure and print the time taken for this operation.\n",
        "\n",
        "• Using NumPy arrays, perform matrix multiplication of two matrices of size 1000x1000.\n",
        "Measure and print the time taken for this operation."
      ],
      "metadata": {
        "id": "xL7t1KZVCvnC"
      }
    },
    {
      "cell_type": "code",
      "source": [
        "import time\n",
        "import numpy as np\n",
        "\n",
        "# Create two matrices of size 1000x1000 using Python lists\n",
        "matrix1_list = [[1 for _ in range(1000)] for _ in range(1000)]\n",
        "matrix2_list = [[2 for _ in range(1000)] for _ in range(1000)]\n",
        "\n",
        "# Matrix multiplication using Python lists\n",
        "start_time = time.time()\n",
        "\n",
        "result_list = [[sum(a * b for a, b in zip(row_a, col_b))\n",
        "                  for col_b in zip(*matrix2_list)]\n",
        "                 for row_a in matrix1_list]\n",
        "\n",
        "end_time = time.time()\n",
        "list_time = end_time - start_time\n",
        "print(f\"Time taken using Python lists: {list_time:.4f} seconds\")\n",
        "\n",
        "# Create two matrices of size 1000x1000 using NumPy arrays\n",
        "matrix1_array = np.ones((1000, 1000))\n",
        "matrix2_array = np.full((1000, 1000), 2)  # Fill with 2\n",
        "\n",
        "# Matrix multiplication using NumPy arrays\n",
        "start_time = time.time()\n",
        "result_array = np.dot(matrix1_array, matrix2_array)\n",
        "end_time = time.time()\n",
        "array_time = end_time - start_time\n",
        "print(f\"Time taken using NumPy arrays: {array_time:.4f} seconds\")"
      ],
      "metadata": {
        "colab": {
          "base_uri": "https://localhost:8080/"
        },
        "id": "xpba3MJ-Cxbv",
        "outputId": "780c23b1-1dbc-4464-8126-2fbd7aab63a4"
      },
      "execution_count": null,
      "outputs": [
        {
          "output_type": "stream",
          "name": "stdout",
          "text": [
            "Time taken using Python lists: 75.7446 seconds\n",
            "Time taken using NumPy arrays: 0.1409 seconds\n"
          ]
        }
      ]
    }
  ]
}